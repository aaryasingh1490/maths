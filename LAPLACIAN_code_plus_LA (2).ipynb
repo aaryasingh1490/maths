{
 "cells": [
  {
   "cell_type": "code",
   "execution_count": 1,
   "metadata": {
    "colab": {
     "base_uri": "https://localhost:8080/"
    },
    "id": "Jje8oNPOFf9Y",
    "outputId": "773448ea-59df-4407-c788-ccacf0000775"
   },
   "outputs": [
    {
     "name": "stdout",
     "output_type": "stream",
     "text": [
      "Required Laplacian= 6*x + 6*z + 2\n"
     ]
    }
   ],
   "source": [
    "from sympy import *\n",
    "# Define the variables\n",
    "x, y, z = symbols('x y z')\n",
    "# Defining function PHI\n",
    "Phi=x**3+y**2+z**3\n",
    "# Compute the second partial derivatives\n",
    "phi_1=diff(Phi,x,2)\n",
    "phi_2=diff(Phi,y,2)\n",
    "phi_3=diff(Phi,z,2)\n",
    "Lap=phi_1+phi_2+phi_3\n",
    "print(\"Required Laplacian=\",Lap)"
   ]
  },
  {
   "cell_type": "code",
   "execution_count": 3,
   "metadata": {
    "colab": {
     "base_uri": "https://localhost:8080/"
    },
    "id": "iMIx_d8ZG8Y4",
    "outputId": "9de5e532-f8c4-45ed-aed8-23238cbe568e"
   },
   "outputs": [
    {
     "name": "stdout",
     "output_type": "stream",
     "text": [
      "Required Laplacian= 2*x**3 + 6*x*y**2 + 6*x*y*z\n"
     ]
    }
   ],
   "source": [
    "# Evaluate Laplacian of x^3*y^2+xyz^3 at pt(1,1,2)\n",
    "from sympy import *\n",
    "# Define the variables\n",
    "x, y, z = symbols('x y z')\n",
    "# Defining function PHI\n",
    "Phi=(x**3)*y**2+x*y*z**3\n",
    "# Compute the second partial derivatives\n",
    "phi_1=diff(Phi,x,2)\n",
    "phi_2=diff(Phi,y,2)\n",
    "phi_3=diff(Phi,z,2)\n",
    "Lap=phi_1+phi_2+phi_3\n",
    "print(\"Required Laplacian=\",Lap)"
   ]
  },
  {
   "cell_type": "code",
   "execution_count": 5,
   "metadata": {
    "colab": {
     "base_uri": "https://localhost:8080/"
    },
    "id": "aBDF8-AeHdpP",
    "outputId": "4a1f2729-f49e-4c38-d938-89c64f69e810"
   },
   "outputs": [
    {
     "name": "stdout",
     "output_type": "stream",
     "text": [
      "value of laplacian= 20\n"
     ]
    }
   ],
   "source": [
    "# Define the point (1, 1, 2)\n",
    "point = {x: 1, y: 1, z: 2}\n",
    "laplacian_at_point = Lap.subs(point)\n",
    "print(\"value of laplacian=\",laplacian_at_point)"
   ]
  },
  {
   "cell_type": "code",
   "execution_count": 7,
   "metadata": {
    "colab": {
     "base_uri": "https://localhost:8080/"
    },
    "id": "-kp97Sj4N4k8",
    "outputId": "abf48cfa-51fa-47c4-d32c-9b4f657e9c41"
   },
   "outputs": [
    {
     "name": "stdout",
     "output_type": "stream",
     "text": [
      "[x 0] [0 y]\n",
      "2*x + 3*y and 4*x - 5*y\n",
      "The matrix of linear transformation is A  Matrix([[2, 3], [4, -5]])\n"
     ]
    }
   ],
   "source": [
    "from sympy import *\n",
    "import sympy as sym\n",
    "k,x,y=symbols(\"k,x,y\")\n",
    "import numpy as np\n",
    "def T(x):\n",
    "    x_new=0\n",
    "    x,y=x[0],x[1]\n",
    "    x_new=np.array([2*x+3*y,4*x-5*y])\n",
    "    return simplify(x_new)\n",
    "u1=np.array([1,0])\n",
    "u2=np.array([0,1])\n",
    "v1=np.array([1,0])\n",
    "v2=np.array([0,1])\n",
    "eq0=np.array([v1[0]*x,v2[0]*y])\n",
    "eq1=np.array([v1[1]*x,v2[1]*y])\n",
    "print(eq0,eq1)\n",
    "a0=np.array([T(u1)[0],T(u2)[0]])\n",
    "a1=np.array([T(u1)[1],T(u2)[1]])\n",
    "print(a0[0]*x+a0[1]*y  ,'and',a1[0]*x+a1[1]*y)\n",
    "print(\"The matrix of linear transformation is A \",Matrix([a0,a1]))\n"
   ]
  },
  {
   "cell_type": "code",
   "execution_count": 9,
   "metadata": {
    "colab": {
     "base_uri": "https://localhost:8080/"
    },
    "id": "mMOl4WSKPar1",
    "outputId": "73bdc4bc-305d-47d0-d357-e9b972194477"
   },
   "outputs": [
    {
     "name": "stdout",
     "output_type": "stream",
     "text": [
      "[x 0] [0 y]\n",
      "x - y and y\n",
      "The matrix of linear transformation is A  Matrix([[1, -1], [0, 1]])\n"
     ]
    }
   ],
   "source": [
    "from sympy import *\n",
    "import sympy as sym\n",
    "k,x,y=symbols(\"k,x,y\")\n",
    "import numpy as np\n",
    "def T(x):\n",
    "    x_new=0\n",
    "    x,y=x[0],x[1]\n",
    "    x_new=np.array([x-y,y])\n",
    "    return simplify(x_new)\n",
    "u1=np.array([1,0])\n",
    "u2=np.array([0,1])\n",
    "v1=np.array([1,0])\n",
    "v2=np.array([0,1])\n",
    "eq0=np.array([v1[0]*x,v2[0]*y])\n",
    "eq1=np.array([v1[1]*x,v2[1]*y])\n",
    "print(eq0,eq1)\n",
    "a0=np.array([T(u1)[0],T(u2)[0]])\n",
    "a1=np.array([T(u1)[1],T(u2)[1]])\n",
    "print(a0[0]*x+a0[1]*y  ,'and',a1[0]*x+a1[1]*y)\n",
    "print(\"The matrix of linear transformation is A \",Matrix([a0,a1]))"
   ]
  },
  {
   "cell_type": "code",
   "execution_count": 11,
   "metadata": {
    "colab": {
     "base_uri": "https://localhost:8080/"
    },
    "id": "vnKJX24PPnAS",
    "outputId": "922b338b-2e1e-4423-8876-f35c946c786a"
   },
   "outputs": [
    {
     "name": "stdout",
     "output_type": "stream",
     "text": [
      "[0 -5 1] [3 -3 3]\n",
      "x + 2*y and -y\n",
      "The linear transformation T is T(x,y)= [-3*y -5*x - 7*y x - y]\n"
     ]
    }
   ],
   "source": [
    "from sympy import*\n",
    "a,b,x,y=symbols(\"a,b,x,y\")\n",
    "import numpy as np\n",
    "A=Matrix([[-1,0],[2,0],[1,3]])\n",
    "u1=np.array([1,0])\n",
    "u2=np.array([2,-1])\n",
    "v1=np.array([1,2,0])\n",
    "v2=np.array([0,-1,0])\n",
    "v3=np.array([1,-1,1])\n",
    "\n",
    "T0=np.array([A[0,0]*v1 , A[1,0]*v2 , A[2,0]*v3])\n",
    "T1=np.array([A[0,1]*v1 , A[1,1]*v2 , A[2,1]*v3])\n",
    "sumT0=T0[0]+T0[1]+T0[2]\n",
    "sumT1=T1[0]+T1[1]+T1[2]\n",
    "print(sumT0,sumT1)\n",
    "\n",
    "eq=np.array([u1[0]*x + u2[0]*y ,u1[1]*x + u2[1]*y] )\n",
    "p,q=eq[0],eq[1]\n",
    "print(p,\"and\",q)\n",
    "t=sumT0*p+sumT1*q\n",
    "print(\"The linear transformation T is T(x,y)=\",t)\n"
   ]
  },
  {
   "cell_type": "code",
   "execution_count": 13,
   "metadata": {
    "colab": {
     "base_uri": "https://localhost:8080/"
    },
    "id": "3vHoUI1fRWoE",
    "outputId": "66a0253d-5690-48d1-ffb7-ee0ca53f4c04"
   },
   "outputs": [
    {
     "name": "stdout",
     "output_type": "stream",
     "text": [
      "Gradient of the function F is [y, x, -2*z]\n",
      "Gradient of the function F at (1,9,-3) is [9, 1, 6]\n",
      "normal of F at (1,9,-3) is [0.828517156108491 0.0920574617898323 0.552344770738994]\n",
      "Gradient of the function F at (2,-2,2) is [-2, 2, -4]\n",
      " normal of F at (2,-2,2) is [-0.408248290463863 0.408248290463863 -0.816496580927726]\n",
      "The angle between the normals N1 and N2 is -0.751646028002829\n"
     ]
    }
   ],
   "source": [
    "from sympy import*\n",
    "import numpy as np\n",
    "import math as m\n",
    "x=Symbol('x')\n",
    "y=Symbol('y')\n",
    "z=Symbol('z')\n",
    "F=x*y-z**2\n",
    "f1=diff(F,x)\n",
    "f2=diff(F,y)\n",
    "f3=diff(F,z)\n",
    "G=np.array([f1,f2,f3])\n",
    "N=G.tolist()\n",
    "print (\"Gradient of the function F is\", N)\n",
    "a=N[0]\n",
    "b=N[1]\n",
    "c=N[2]\n",
    "a=a.subs({x:1,y:9,z:-3})\n",
    "b=b.subs({x:1,y:9,z:-3})\n",
    "c=c.subs({x:1,y:9,z:-3})\n",
    "Grad1=np.array([a,b,c])\n",
    "M1=Grad1.tolist()\n",
    "print (\"Gradient of the function F at (1,9,-3) is\", M1)\n",
    "N1=Grad1/m.sqrt(a**2+b**2+c**2)\n",
    "print (\"normal of F at (1,9,-3) is\", N1)\n",
    "d=N[0]\n",
    "e=N[1]\n",
    "f=N[2]\n",
    "d=d.subs({x:2,y:-2,z:2})\n",
    "e=e.subs({x:2,y:-2,z:2})\n",
    "f=f.subs({x:2,y:-2,z:2})\n",
    "Grad2=np.array([d,e,f])\n",
    "M2=Grad2.tolist()\n",
    "print (\"Gradient of the function F at (2,-2,2) is\", M2)\n",
    "N2=Grad2/m.sqrt(d**2+e**2+f**2)\n",
    "print (\" normal of F at (2,-2,2) is\", N2)\n",
    "A=np.dot(N1,N2)\n",
    "print(\"The angle between the normals N1 and N2 is\",A)"
   ]
  },
  {
   "cell_type": "code",
   "execution_count": 17,
   "metadata": {
    "colab": {
     "base_uri": "https://localhost:8080/",
     "height": 106
    },
    "id": "2FDUlicSSBf2",
    "outputId": "7c21dc8d-1dcf-4327-d14f-88a48b00ea52"
   },
   "outputs": [
    {
     "ename": "SyntaxError",
     "evalue": "invalid syntax (3231730046.py, line 20)",
     "output_type": "error",
     "traceback": [
      "\u001b[1;36m  Cell \u001b[1;32mIn[17], line 20\u001b[1;36m\u001b[0m\n\u001b[1;33m    elif 0 <= x < 1:\u001b[0m\n\u001b[1;37m    ^\u001b[0m\n\u001b[1;31mSyntaxError\u001b[0m\u001b[1;31m:\u001b[0m invalid syntax\n"
     ]
    }
   ],
   "source": [
    "import numpy as np\n",
    "import matplotlib.pyplot as plt\n",
    "from scipy.integrate import quad\n",
    "\n",
    "def fourier_series(x, N):\n",
    " \"\"\"\n",
    "Calculates the Fourier series approximation of the given function f(x) up to the Nth harmonic.\n",
    "\n",
    "Args:\n",
    "x: The input values at which to evaluate the Fourier series.\n",
    "N: The number of harmonics to include in the approximation.\n",
    "\n",
    "Returns:\n",
    "The Fourier series approximation of f(x) at the given points.\n",
    "\"\"\"\n",
    "\n",
    "def f(x):\n",
    " if -1 <= x < 0:\n",
    "  return -1\n",
    "elif 0 <= x < 1:\n",
    "  return 2 * x\n",
    "else:\n",
    "  return f(x % 2 - 1) # Apply periodicity\n",
    "\n",
    "a0 = 1 / 2 * (integrate(f, -1, 0) + integrate(f, 0, 1))\n",
    "\n",
    "def an(n):\n",
    "return 1 / 2 * (integrate(lambda x: f(x) * np.cos(n * np.pi * x), -1, 0) +\n",
    "integrate(lambda x: f(x) * np.cos(n * np.pi * x), 0, 1))\n",
    "\n",
    "def bn(n):\n",
    "return 1 / 2 * (integrate(lambda x: f(x) * np.sin(n * np.pi * x), -1, 0) +\n",
    "integrate(lambda x: f(x) * np.sin(n * np.pi * x), 0, 1))\n",
    "\n",
    "fourier_sum = a0\n",
    "for n in range(1, N + 1):\n",
    "fourier_sum += an(n) * np.cos(n * np.pi * x) + bn(n) * np.sin(n * np.pi * x)\n",
    "\n",
    "return fourier_sum\n",
    "\n",
    "# Define the integration function using scipy's quad function\n",
    "def integrate(func, a, b):\n",
    "result, _ = quad(func, a, b)\n",
    "return result\n",
    "\n",
    "# Set the number of harmonics to include\n",
    "N = 10\n",
    "\n",
    "# Generate x values for plotting\n",
    "x = np.linspace(-2, 2, 1000)\n",
    "\n",
    "# Calculate the Fourier series approximation\n",
    "y = fourier_series(x, N)\n",
    "\n",
    "# Define the original piecewise function for plotting\n",
    "def f_plot(x):\n",
    "if -1 <= x < 0:\n",
    "return -1\n",
    "elif 0 <= x < 1:\n",
    "return 2 * x\n",
    "else:\n",
    "return f_plot(x % 2 - 1) # Apply periodicity\n",
    "\n",
    "# Plot the original function and its Fourier series approximation\n",
    "f_values = np.array([f_plot(xi) for xi in x])\n",
    "plt.plot(x, f_values, label='Original Function', linestyle='--')\n",
    "plt.plot(x, y, label='Fourier Series Approximation')\n",
    "plt.legend()\n",
    "plt.xlabel('x')\n",
    "plt.ylabel('f(x)')\n",
    "plt.title('Fourier Series Approximation of f(x)')\n",
    "plt.grid(True)\n",
    "plt.show()"
   ]
  },
  {
   "cell_type": "code",
   "execution_count": 19,
   "metadata": {},
   "outputs": [
    {
     "data": {
      "image/png": "[encoded data removed]",
      "text/plain": [
       "<Figure size 640x480 with 1 Axes>"
      ]
     },
     "metadata": {},
     "output_type": "display_data"
    }
   ],
   "source": [
    "import numpy as np\n",
    "import matplotlib.pyplot as plt\n",
    "from scipy.integrate import quad\n",
    "\n",
    "def fourier_series(x, N):\n",
    "    \"\"\"\n",
    "    Calculates the Fourier series approximation of the given function f(x) up to the Nth harmonic.\n",
    "\n",
    "    Args:\n",
    "        x: The input values at which to evaluate the Fourier series.\n",
    "        N: The number of harmonics to include in the approximation.\n",
    "\n",
    "    Returns:\n",
    "        The Fourier series approximation of f(x) at the given points.\n",
    "    \"\"\"\n",
    "\n",
    "    # Define the original function\n",
    "    def f(x):\n",
    "        if -1 <= x < 0:\n",
    "            return -1\n",
    "        elif 0 <= x < 1:\n",
    "            return 2 * x\n",
    "        else:\n",
    "            return f(x % 2 - 1)  # Apply periodicity\n",
    "\n",
    "    # Define the integration function using scipy's quad function\n",
    "    def integrate(func, a, b):\n",
    "        result, _ = quad(func, a, b)\n",
    "        return result\n",
    "\n",
    "    # Calculate the coefficients\n",
    "    a0 = 0.5 * (integrate(f, -1, 0) + integrate(f, 0, 1))\n",
    "\n",
    "    def an(n):\n",
    "        return 0.5 * (integrate(lambda x: f(x) * np.cos(n * np.pi * x), -1, 0) +\n",
    "                      integrate(lambda x: f(x) * np.cos(n * np.pi * x), 0, 1))\n",
    "\n",
    "    def bn(n):\n",
    "        return 0.5 * (integrate(lambda x: f(x) * np.sin(n * np.pi * x), -1, 0) +\n",
    "                      integrate(lambda x: f(x) * np.sin(n * np.pi * x), 0, 1))\n",
    "\n",
    "    # Calculate the Fourier series\n",
    "    fourier_sum = a0\n",
    "    for n in range(1, N + 1):\n",
    "        fourier_sum += an(n) * np.cos(n * np.pi * x) + bn(n) * np.sin(n * np.pi * x)\n",
    "\n",
    "    return fourier_sum\n",
    "\n",
    "# Define the original piecewise function for plotting\n",
    "def f_plot(x):\n",
    "    if -1 <= x < 0:\n",
    "        return -1\n",
    "    elif 0 <= x < 1:\n",
    "        return 2 * x\n",
    "    else:\n",
    "        return f_plot(x % 2 - 1)  # Apply periodicity\n",
    "\n",
    "# Set the number of harmonics to include\n",
    "N = 10\n",
    "\n",
    "# Generate x values for plotting\n",
    "x = np.linspace(-2, 2, 1000)\n",
    "\n",
    "# Calculate the Fourier series approximation\n",
    "y = np.array([fourier_series(xi, N) for xi in x])\n",
    "\n",
    "# Calculate the original function values\n",
    "f_values = np.array([f_plot(xi) for xi in x])\n",
    "\n",
    "# Plot the original function and its Fourier series approximation\n",
    "plt.plot(x, f_values, label='Original Function', linestyle='--')\n",
    "plt.plot(x, y, label='Fourier Series Approximation')\n",
    "plt.legend()\n",
    "plt.xlabel('x')\n",
    "plt.ylabel('f(x)')\n",
    "plt.title('Fourier Series Approximation of f(x)')\n",
    "plt.grid(True)\n",
    "plt.show()"
   ]
  },
  {
   "cell_type": "code",
   "execution_count": null,
   "metadata": {},
   "outputs": [],
   "source": []
  }
 ],
 "metadata": {
  "colab": {
   "provenance": []
  },
  "kernelspec": {
   "display_name": "Python 3 (ipykernel)",
   "language": "python",
   "name": "python3"
  },
  "language_info": {
   "codemirror_mode": {
    "name": "ipython",
    "version": 3
   },
   "file_extension": ".py",
   "mimetype": "text/x-python",
   "name": "python",
   "nbconvert_exporter": "python",
   "pygments_lexer": "ipython3",
   "version": "3.12.4"
  }
 },
 "nbformat": 4,
 "nbformat_minor": 4
}
